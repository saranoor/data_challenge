{
 "cells": [
  {
   "cell_type": "markdown",
   "id": "e91d57e1",
   "metadata": {},
   "source": [
    "## Task - DubiCars\n",
    " \n",
    "Dealer X is a Tier 1 dealer at DubiCars. Over the past year lead volume has been on a downward trend for this dealer. However, during the same period, overall leads on DubiCars are trending upwards.\n",
    " \n",
    "We want to investigate the following:\n",
    "- What reason(s) could be responsible for the decline in lead volume for Dealer X?\n",
    "- Why is Dealer X not benefitting from the overall increase in DubiCars leads volume?\n",
    "- What can be done to improve performance"
   ]
  },
  {
   "cell_type": "markdown",
   "id": "06166702",
   "metadata": {},
   "source": [
    "### Solution: \n",
    "To identify the potential reasons for the decline in lead volume for Dealer X and why they are not benefitting from the overall increase in DubiCars leads volume i will take the following step:\n",
    "\n",
    "- load data\n",
    "- exploratory data analysis using Python, matplotlib, Pandas\n",
    "- find insights and investigate \n",
    "- At the end of the notebook, i will clearly mention the answer to all the three question in the light of the data analysis and insights"
   ]
  },
  {
   "cell_type": "markdown",
   "id": "95edb263",
   "metadata": {},
   "source": [
    "#### Load Datasets & EDA"
   ]
  },
  {
   "cell_type": "code",
   "execution_count": 31,
   "id": "fb5a7ae7",
   "metadata": {},
   "outputs": [],
   "source": [
    "import pandas as pd\n",
    "import numpy as np"
   ]
  },
  {
   "cell_type": "code",
   "execution_count": 6,
   "id": "7b1a0131",
   "metadata": {},
   "outputs": [],
   "source": [
    "path=r\"C:\\Users\\sara.noor\\Downloads\""
   ]
  },
  {
   "cell_type": "code",
   "execution_count": 335,
   "id": "3af36e9c",
   "metadata": {},
   "outputs": [],
   "source": [
    "df_1=pd.read_csv(path+'\\Dataset1'+'.csv')\n",
    "df_2=pd.read_csv(path+'\\Dataset2'+'.csv')\n",
    "df_3=pd.read_csv(path+'\\Dataset3'+'.csv')\n",
    "df_searches=pd.read_csv(path+'\\Dataset4'+'.csv')"
   ]
  },
  {
   "cell_type": "code",
   "execution_count": 16,
   "id": "8e229522",
   "metadata": {
    "scrolled": false
   },
   "outputs": [
    {
     "name": "stdout",
     "output_type": "stream",
     "text": [
      "<class 'pandas.core.frame.DataFrame'>\n",
      "RangeIndex: 213968 entries, 0 to 213967\n",
      "Data columns (total 17 columns):\n",
      " #   Column           Non-Null Count   Dtype  \n",
      "---  ------           --------------   -----  \n",
      " 0   listing_id       213968 non-null  int64  \n",
      " 1   dealer           213968 non-null  object \n",
      " 2   price            213968 non-null  int64  \n",
      " 3   year             213968 non-null  int64  \n",
      " 4   model_id         213968 non-null  int64  \n",
      " 5   make             213968 non-null  object \n",
      " 6   model            213968 non-null  object \n",
      " 7   body_type        213968 non-null  object \n",
      " 8   fuel_type        206956 non-null  object \n",
      " 9   color            213968 non-null  object \n",
      " 10  kilometers       213968 non-null  int64  \n",
      " 11  horsepowers      0 non-null       float64\n",
      " 12  imported         213968 non-null  int64  \n",
      " 13  new              213968 non-null  int64  \n",
      " 14  created_at       213968 non-null  object \n",
      " 15  warranty_months  20873 non-null   float64\n",
      " 16  export_status    213968 non-null  object \n",
      "dtypes: float64(2), int64(7), object(8)\n",
      "memory usage: 27.8+ MB\n"
     ]
    }
   ],
   "source": [
    "df_1.info()"
   ]
  },
  {
   "cell_type": "code",
   "execution_count": 458,
   "id": "61fa91ee",
   "metadata": {
    "scrolled": true
   },
   "outputs": [
    {
     "data": {
      "text/html": [
       "<div>\n",
       "<style scoped>\n",
       "    .dataframe tbody tr th:only-of-type {\n",
       "        vertical-align: middle;\n",
       "    }\n",
       "\n",
       "    .dataframe tbody tr th {\n",
       "        vertical-align: top;\n",
       "    }\n",
       "\n",
       "    .dataframe thead th {\n",
       "        text-align: right;\n",
       "    }\n",
       "</style>\n",
       "<table border=\"1\" class=\"dataframe\">\n",
       "  <thead>\n",
       "    <tr style=\"text-align: right;\">\n",
       "      <th></th>\n",
       "      <th>yy_mm</th>\n",
       "      <th>model_id</th>\n",
       "      <th>model_year</th>\n",
       "      <th>average_price</th>\n",
       "      <th>active_listings</th>\n",
       "      <th>total_leads</th>\n",
       "      <th>total_impressions</th>\n",
       "      <th>total_clicks</th>\n",
       "    </tr>\n",
       "  </thead>\n",
       "  <tbody>\n",
       "    <tr>\n",
       "      <th>0</th>\n",
       "      <td>2022-07</td>\n",
       "      <td>1150</td>\n",
       "      <td>2019</td>\n",
       "      <td>71475</td>\n",
       "      <td>57</td>\n",
       "      <td>196</td>\n",
       "      <td>1271215</td>\n",
       "      <td>7507</td>\n",
       "    </tr>\n",
       "    <tr>\n",
       "      <th>1</th>\n",
       "      <td>2022-07</td>\n",
       "      <td>1581</td>\n",
       "      <td>2019</td>\n",
       "      <td>49597</td>\n",
       "      <td>42</td>\n",
       "      <td>83</td>\n",
       "      <td>968883</td>\n",
       "      <td>2268</td>\n",
       "    </tr>\n",
       "    <tr>\n",
       "      <th>2</th>\n",
       "      <td>2022-07</td>\n",
       "      <td>1213</td>\n",
       "      <td>2019</td>\n",
       "      <td>37901</td>\n",
       "      <td>36</td>\n",
       "      <td>5</td>\n",
       "      <td>111779</td>\n",
       "      <td>174</td>\n",
       "    </tr>\n",
       "    <tr>\n",
       "      <th>3</th>\n",
       "      <td>2022-07</td>\n",
       "      <td>1200</td>\n",
       "      <td>2019</td>\n",
       "      <td>167669</td>\n",
       "      <td>33</td>\n",
       "      <td>180</td>\n",
       "      <td>1114228</td>\n",
       "      <td>8548</td>\n",
       "    </tr>\n",
       "    <tr>\n",
       "      <th>4</th>\n",
       "      <td>2022-07</td>\n",
       "      <td>1146</td>\n",
       "      <td>2017</td>\n",
       "      <td>42641</td>\n",
       "      <td>30</td>\n",
       "      <td>41</td>\n",
       "      <td>289788</td>\n",
       "      <td>1237</td>\n",
       "    </tr>\n",
       "  </tbody>\n",
       "</table>\n",
       "</div>"
      ],
      "text/plain": [
       "     yy_mm  model_id  model_year  average_price  active_listings  total_leads  \\\n",
       "0  2022-07      1150        2019          71475               57          196   \n",
       "1  2022-07      1581        2019          49597               42           83   \n",
       "2  2022-07      1213        2019          37901               36            5   \n",
       "3  2022-07      1200        2019         167669               33          180   \n",
       "4  2022-07      1146        2017          42641               30           41   \n",
       "\n",
       "   total_impressions  total_clicks  \n",
       "0            1271215          7507  \n",
       "1             968883          2268  \n",
       "2             111779           174  \n",
       "3            1114228          8548  \n",
       "4             289788          1237  "
      ]
     },
     "execution_count": 458,
     "metadata": {},
     "output_type": "execute_result"
    }
   ],
   "source": [
    "df_2.head(5)"
   ]
  },
  {
   "cell_type": "code",
   "execution_count": 459,
   "id": "3b81dc8e",
   "metadata": {},
   "outputs": [
    {
     "data": {
      "text/html": [
       "<div>\n",
       "<style scoped>\n",
       "    .dataframe tbody tr th:only-of-type {\n",
       "        vertical-align: middle;\n",
       "    }\n",
       "\n",
       "    .dataframe tbody tr th {\n",
       "        vertical-align: top;\n",
       "    }\n",
       "\n",
       "    .dataframe thead th {\n",
       "        text-align: right;\n",
       "    }\n",
       "</style>\n",
       "<table border=\"1\" class=\"dataframe\">\n",
       "  <thead>\n",
       "    <tr style=\"text-align: right;\">\n",
       "      <th></th>\n",
       "      <th>yy_mm</th>\n",
       "      <th>model_id</th>\n",
       "      <th>model_year</th>\n",
       "      <th>average_price</th>\n",
       "      <th>active_listings</th>\n",
       "      <th>total_leads</th>\n",
       "      <th>total_impressions</th>\n",
       "      <th>total_clicks</th>\n",
       "    </tr>\n",
       "  </thead>\n",
       "  <tbody>\n",
       "    <tr>\n",
       "      <th>0</th>\n",
       "      <td>2022-07</td>\n",
       "      <td>1200</td>\n",
       "      <td>2016</td>\n",
       "      <td>135707</td>\n",
       "      <td>61</td>\n",
       "      <td>1199</td>\n",
       "      <td>1873842</td>\n",
       "      <td>21690</td>\n",
       "    </tr>\n",
       "    <tr>\n",
       "      <th>1</th>\n",
       "      <td>2022-07</td>\n",
       "      <td>1200</td>\n",
       "      <td>2015</td>\n",
       "      <td>114394</td>\n",
       "      <td>55</td>\n",
       "      <td>444</td>\n",
       "      <td>698467</td>\n",
       "      <td>11592</td>\n",
       "    </tr>\n",
       "    <tr>\n",
       "      <th>2</th>\n",
       "      <td>2022-07</td>\n",
       "      <td>1200</td>\n",
       "      <td>2014</td>\n",
       "      <td>96874</td>\n",
       "      <td>50</td>\n",
       "      <td>1198</td>\n",
       "      <td>767914</td>\n",
       "      <td>16128</td>\n",
       "    </tr>\n",
       "    <tr>\n",
       "      <th>3</th>\n",
       "      <td>2022-07</td>\n",
       "      <td>1200</td>\n",
       "      <td>2017</td>\n",
       "      <td>144903</td>\n",
       "      <td>49</td>\n",
       "      <td>482</td>\n",
       "      <td>1605220</td>\n",
       "      <td>12336</td>\n",
       "    </tr>\n",
       "    <tr>\n",
       "      <th>4</th>\n",
       "      <td>2022-07</td>\n",
       "      <td>990</td>\n",
       "      <td>2019</td>\n",
       "      <td>727650</td>\n",
       "      <td>49</td>\n",
       "      <td>411</td>\n",
       "      <td>1089933</td>\n",
       "      <td>16378</td>\n",
       "    </tr>\n",
       "  </tbody>\n",
       "</table>\n",
       "</div>"
      ],
      "text/plain": [
       "     yy_mm  model_id  model_year  average_price  active_listings  total_leads  \\\n",
       "0  2022-07      1200        2016         135707               61         1199   \n",
       "1  2022-07      1200        2015         114394               55          444   \n",
       "2  2022-07      1200        2014          96874               50         1198   \n",
       "3  2022-07      1200        2017         144903               49          482   \n",
       "4  2022-07       990        2019         727650               49          411   \n",
       "\n",
       "   total_impressions  total_clicks  \n",
       "0            1873842         21690  \n",
       "1             698467         11592  \n",
       "2             767914         16128  \n",
       "3            1605220         12336  \n",
       "4            1089933         16378  "
      ]
     },
     "execution_count": 459,
     "metadata": {},
     "output_type": "execute_result"
    }
   ],
   "source": [
    "df_3.head(5)"
   ]
  },
  {
   "cell_type": "code",
   "execution_count": 460,
   "id": "0dce548b",
   "metadata": {
    "scrolled": true
   },
   "outputs": [
    {
     "data": {
      "text/html": [
       "<div>\n",
       "<style scoped>\n",
       "    .dataframe tbody tr th:only-of-type {\n",
       "        vertical-align: middle;\n",
       "    }\n",
       "\n",
       "    .dataframe tbody tr th {\n",
       "        vertical-align: top;\n",
       "    }\n",
       "\n",
       "    .dataframe thead th {\n",
       "        text-align: right;\n",
       "    }\n",
       "</style>\n",
       "<table border=\"1\" class=\"dataframe\">\n",
       "  <thead>\n",
       "    <tr style=\"text-align: right;\">\n",
       "      <th></th>\n",
       "      <th>listing_id</th>\n",
       "      <th>dealer</th>\n",
       "      <th>price</th>\n",
       "      <th>year</th>\n",
       "      <th>model_id</th>\n",
       "      <th>make</th>\n",
       "      <th>model</th>\n",
       "      <th>body_type</th>\n",
       "      <th>fuel_type</th>\n",
       "      <th>color</th>\n",
       "      <th>kilometers</th>\n",
       "      <th>horsepowers</th>\n",
       "      <th>imported</th>\n",
       "      <th>new</th>\n",
       "      <th>created_at</th>\n",
       "      <th>warranty_months</th>\n",
       "      <th>export_status</th>\n",
       "      <th>create_date</th>\n",
       "    </tr>\n",
       "  </thead>\n",
       "  <tbody>\n",
       "    <tr>\n",
       "      <th>0</th>\n",
       "      <td>411911</td>\n",
       "      <td>Others</td>\n",
       "      <td>0</td>\n",
       "      <td>2021</td>\n",
       "      <td>1547</td>\n",
       "      <td>Toyota</td>\n",
       "      <td>Camry</td>\n",
       "      <td>Sedan</td>\n",
       "      <td>Hybrid</td>\n",
       "      <td>Black</td>\n",
       "      <td>0</td>\n",
       "      <td>NaN</td>\n",
       "      <td>1</td>\n",
       "      <td>1</td>\n",
       "      <td>2021-04-01 00:06:47</td>\n",
       "      <td>NaN</td>\n",
       "      <td>can_be_exported</td>\n",
       "      <td>2021-04-01 00:06:47</td>\n",
       "    </tr>\n",
       "    <tr>\n",
       "      <th>1</th>\n",
       "      <td>411912</td>\n",
       "      <td>Others</td>\n",
       "      <td>55000</td>\n",
       "      <td>2012</td>\n",
       "      <td>1200</td>\n",
       "      <td>Nissan</td>\n",
       "      <td>Patrol</td>\n",
       "      <td>SUV/Crossover</td>\n",
       "      <td>Gasoline</td>\n",
       "      <td>Black</td>\n",
       "      <td>252000</td>\n",
       "      <td>NaN</td>\n",
       "      <td>0</td>\n",
       "      <td>0</td>\n",
       "      <td>2021-04-01 00:28:09</td>\n",
       "      <td>NaN</td>\n",
       "      <td>can_be_exported</td>\n",
       "      <td>2021-04-01 00:28:09</td>\n",
       "    </tr>\n",
       "    <tr>\n",
       "      <th>2</th>\n",
       "      <td>411913</td>\n",
       "      <td>Others</td>\n",
       "      <td>79000</td>\n",
       "      <td>2019</td>\n",
       "      <td>2549</td>\n",
       "      <td>GAC</td>\n",
       "      <td>GA 8</td>\n",
       "      <td>Sedan</td>\n",
       "      <td>Gasoline</td>\n",
       "      <td>Black</td>\n",
       "      <td>9500</td>\n",
       "      <td>NaN</td>\n",
       "      <td>0</td>\n",
       "      <td>0</td>\n",
       "      <td>2021-04-01 00:43:26</td>\n",
       "      <td>NaN</td>\n",
       "      <td>can_be_exported</td>\n",
       "      <td>2021-04-01 00:43:26</td>\n",
       "    </tr>\n",
       "    <tr>\n",
       "      <th>3</th>\n",
       "      <td>411914</td>\n",
       "      <td>Others</td>\n",
       "      <td>65000</td>\n",
       "      <td>2022</td>\n",
       "      <td>1143</td>\n",
       "      <td>Mitsubishi</td>\n",
       "      <td>L200</td>\n",
       "      <td>Pick Up Truck</td>\n",
       "      <td>Diesel</td>\n",
       "      <td>Orange</td>\n",
       "      <td>0</td>\n",
       "      <td>NaN</td>\n",
       "      <td>1</td>\n",
       "      <td>1</td>\n",
       "      <td>2021-04-01 01:03:26</td>\n",
       "      <td>NaN</td>\n",
       "      <td>can_be_exported</td>\n",
       "      <td>2021-04-01 01:03:26</td>\n",
       "    </tr>\n",
       "    <tr>\n",
       "      <th>4</th>\n",
       "      <td>411915</td>\n",
       "      <td>Others</td>\n",
       "      <td>103000</td>\n",
       "      <td>2022</td>\n",
       "      <td>1143</td>\n",
       "      <td>Mitsubishi</td>\n",
       "      <td>L200</td>\n",
       "      <td>Pick Up Truck</td>\n",
       "      <td>Diesel</td>\n",
       "      <td>Orange</td>\n",
       "      <td>0</td>\n",
       "      <td>NaN</td>\n",
       "      <td>1</td>\n",
       "      <td>1</td>\n",
       "      <td>2021-04-01 01:20:39</td>\n",
       "      <td>NaN</td>\n",
       "      <td>only_for_export</td>\n",
       "      <td>2021-04-01 01:20:39</td>\n",
       "    </tr>\n",
       "  </tbody>\n",
       "</table>\n",
       "</div>"
      ],
      "text/plain": [
       "   listing_id  dealer   price  year  model_id        make   model  \\\n",
       "0      411911  Others       0  2021      1547      Toyota   Camry   \n",
       "1      411912  Others   55000  2012      1200      Nissan  Patrol   \n",
       "2      411913  Others   79000  2019      2549         GAC    GA 8   \n",
       "3      411914  Others   65000  2022      1143  Mitsubishi    L200   \n",
       "4      411915  Others  103000  2022      1143  Mitsubishi    L200   \n",
       "\n",
       "       body_type fuel_type   color  kilometers  horsepowers  imported  new  \\\n",
       "0          Sedan    Hybrid   Black           0          NaN         1    1   \n",
       "1  SUV/Crossover  Gasoline   Black      252000          NaN         0    0   \n",
       "2          Sedan  Gasoline   Black        9500          NaN         0    0   \n",
       "3  Pick Up Truck    Diesel  Orange           0          NaN         1    1   \n",
       "4  Pick Up Truck    Diesel  Orange           0          NaN         1    1   \n",
       "\n",
       "           created_at  warranty_months    export_status         create_date  \n",
       "0 2021-04-01 00:06:47              NaN  can_be_exported 2021-04-01 00:06:47  \n",
       "1 2021-04-01 00:28:09              NaN  can_be_exported 2021-04-01 00:28:09  \n",
       "2 2021-04-01 00:43:26              NaN  can_be_exported 2021-04-01 00:43:26  \n",
       "3 2021-04-01 01:03:26              NaN  can_be_exported 2021-04-01 01:03:26  \n",
       "4 2021-04-01 01:20:39              NaN  only_for_export 2021-04-01 01:20:39  "
      ]
     },
     "execution_count": 460,
     "metadata": {},
     "output_type": "execute_result"
    }
   ],
   "source": [
    "df_1.head(5)"
   ]
  },
  {
   "cell_type": "code",
   "execution_count": 461,
   "id": "7461e0f0",
   "metadata": {
    "scrolled": true
   },
   "outputs": [
    {
     "name": "stdout",
     "output_type": "stream",
     "text": [
      "<class 'pandas.core.frame.DataFrame'>\n",
      "RangeIndex: 8063 entries, 0 to 8062\n",
      "Data columns (total 8 columns):\n",
      " #   Column             Non-Null Count  Dtype \n",
      "---  ------             --------------  ----- \n",
      " 0   yy_mm              8063 non-null   object\n",
      " 1   model_id           8063 non-null   int64 \n",
      " 2   model_year         8063 non-null   int64 \n",
      " 3   average_price      8063 non-null   int64 \n",
      " 4   active_listings    8063 non-null   int64 \n",
      " 5   total_leads        8063 non-null   int64 \n",
      " 6   total_impressions  8063 non-null   int64 \n",
      " 7   total_clicks       8063 non-null   int64 \n",
      "dtypes: int64(7), object(1)\n",
      "memory usage: 504.1+ KB\n"
     ]
    }
   ],
   "source": [
    "df_2.info()"
   ]
  },
  {
   "cell_type": "code",
   "execution_count": 462,
   "id": "4d9a09b4",
   "metadata": {},
   "outputs": [
    {
     "name": "stdout",
     "output_type": "stream",
     "text": [
      "<class 'pandas.core.frame.DataFrame'>\n",
      "RangeIndex: 41262 entries, 0 to 41261\n",
      "Data columns (total 8 columns):\n",
      " #   Column             Non-Null Count  Dtype \n",
      "---  ------             --------------  ----- \n",
      " 0   yy_mm              41262 non-null  object\n",
      " 1   model_id           41262 non-null  int64 \n",
      " 2   model_year         41262 non-null  int64 \n",
      " 3   average_price      41262 non-null  int64 \n",
      " 4   active_listings    41262 non-null  int64 \n",
      " 5   total_leads        41262 non-null  int64 \n",
      " 6   total_impressions  41262 non-null  int64 \n",
      " 7   total_clicks       41262 non-null  int64 \n",
      "dtypes: int64(7), object(1)\n",
      "memory usage: 2.5+ MB\n"
     ]
    }
   ],
   "source": [
    "df_3.info()"
   ]
  },
  {
   "cell_type": "code",
   "execution_count": 39,
   "id": "34df8075",
   "metadata": {
    "collapsed": true
   },
   "outputs": [
    {
     "name": "stdout",
     "output_type": "stream",
     "text": [
      "listing_id [411911 411912 411913 ... 626146 626147 626148]\n",
      "dealer ['Others' 'Dealer X']\n",
      "price [     0  55000  79000 ... 522000 157700 945400]\n",
      "year [2021 2012 2019 2022 2015 2018 2016 2020 2017 2013 2014 2006 2011 2007\n",
      " 1998 2009 2010 2005 2003 2008 1983 1986 1991 1984 1994 2002 2004 1999\n",
      " 2000 1996 1997 1995 2001 1990 1993 1970 2023 1964 1978 1934 1987 1969\n",
      " 1988 1956 1949 1975 1971 1992 1967 1989 1966 1979 1976 1965 1963 1985\n",
      " 1961 1980 1957 1982 1955 1958 1972 1981    0 1968 1977 1960 1962 1950\n",
      " 1974 1959 1951 1973 1948 1953 2024 1930 1939 1937 1929 1900]\n",
      "model_id [1547 1200 2549 ... 1462 3194  347]\n",
      "make ['Toyota' 'Nissan' 'GAC' 'Mitsubishi' 'Mercedes-Benz' 'Land Rover'\n",
      " 'Porsche' 'Mazda' 'Audi' 'Lexus' 'Cadillac' 'Ford' 'Kia' 'Hyundai' 'GMC'\n",
      " 'Renault' 'Rolls-Royce' 'Suzuki' 'BMW' 'Jeep' 'Honda' 'Chevrolet'\n",
      " 'Jaguar' 'Tesla' 'Alfa Romeo' 'Volkswagen' 'Lamborghini' 'Ashok Leyland'\n",
      " 'Dodge' 'Ferrari' 'Infiniti' 'Bentley' 'Volvo' 'Peugeot' 'Lincoln' 'Mini'\n",
      " 'Subaru' 'Foton' 'Geely' 'Tata' 'Citroen' 'Maserati' 'Chrysler'\n",
      " 'Aston Martin' 'Hummer' 'Brilliance' 'Genesis' 'Skoda' 'Opel' 'Mercury'\n",
      " 'Abarth' 'Golden Dragon' 'Others' 'Smart' 'Hino' 'Seat' 'Isuzu' 'Maybach'\n",
      " 'Fiat' 'Mahindra' 'Daihatsu' 'Great Wall' 'McLaren' 'Landwind'\n",
      " 'Harley-Davidson' 'MAN' 'Iveco' 'CMC' 'King Long' 'Aixam' 'JAC' 'Saab'\n",
      " 'MG' 'Shelby' 'SAIC' 'Changan' 'Lada' 'Asiastar' 'Pontiac'\n",
      " 'Renault Samsung' 'Bugatti' 'DAF' 'CHTC' 'Jannarelly' 'Acura' 'UAZ' 'ZX'\n",
      " 'ZNA' 'Haval' 'Dongfeng Sokon' 'BAIC' 'Higer' 'Hawtai' 'Morgan' 'Scania'\n",
      " 'KTM' 'Massey Ferguson' 'Otakar' 'Fisker' 'Jincheng' 'Lancia' 'Lotus'\n",
      " 'Force' 'Chery' 'AC' 'JMC' 'Buick' 'Scion' 'Ssangyong' 'Datsun' 'Proton'\n",
      " 'Daewoo' 'Big Buggy' 'Rover' 'Changhe' 'Luxgen' 'Jetour' 'WaterCar'\n",
      " 'Zotye Auto' 'Voyah' 'HONGQI' 'Xpeng' 'Weltmeister' 'International'\n",
      " 'Mitsuoka' 'Caterham' 'Rezvani' 'Hozon Auto' 'Westfield' 'SHERP' 'Alpine'\n",
      " 'BYD' 'Haima' 'Wuzhoulong' 'FAW Besturn' 'Holden' 'Ariel' 'Polestar'\n",
      " 'Borgward' 'Yutong' 'CEVO-C' 'Forthing' 'Sinotruk' 'Studebaker' 'Triumph'\n",
      " 'Wuling' 'Kaiyi' 'Skywell' 'Bufori' 'GAZ' 'Dayun' 'Eicher' 'Rivian'\n",
      " 'Pagani' 'JMEV' 'Plymouth' 'DFSK' 'Piaggio' 'Bajaj' 'Royal Enfield'\n",
      " 'AEON' 'HiPhi' 'Gumpert' 'Vanderhall' 'Puch' 'Granton' 'XEV' 'Koenigsegg'\n",
      " 'LEVC' 'Oldsmobile' 'Benz' 'Soueast' 'Dacia']\n",
      "model ['Camry' 'Patrol' 'GA 8' ... 'SLK 320' '127' 'Crosstrek']\n",
      "body_type ['Sedan' 'SUV/Crossover' 'Pick Up Truck' 'Van' 'Truck' 'Coupe' 'Hatchback'\n",
      " 'Bus' 'Convertible' 'Other' 'Bike']\n",
      "fuel_type ['Hybrid' 'Gasoline' 'Diesel' nan 'Electric']\n",
      "color ['Black' 'Orange' 'White' 'Other color' 'Grey/Silver' 'Beige' 'Brown'\n",
      " 'Green' 'Blue' 'Burgundy' 'Red' 'Gold' 'Yellow' 'Tan' 'Teal' 'Purple'\n",
      " 'Pink']\n",
      "kilometers [     0 252000   9500 ... 109001 256243  85787]\n",
      "horsepowers [nan]\n",
      "imported [1 0]\n",
      "new [1 0]\n",
      "created_at ['2021-04-01 0:06:47' '2021-04-01 0:28:09' '2021-04-01 0:43:26' ...\n",
      " '2023-06-05 17:19:35' '2023-06-05 17:20:25' '2023-06-05 17:20:43']\n",
      "warranty_months [          nan  3.600000e+01  4.800000e+01  1.300000e+01  2.400000e+01\n",
      "  1.200000e+01  6.000000e+01  1.100000e+01  1.800000e+01  2.000000e+00\n",
      "  1.600000e+01  2.000000e+01  3.200000e+01  6.000000e+00  4.400000e+01\n",
      "  1.500000e+01  7.000000e+00  2.800000e+01  5.000000e+00  1.400000e+01\n",
      "  9.000000e+00  1.000000e+00  3.000000e+00  1.000000e+01  8.000000e+00\n",
      "  2.022000e+03  4.000000e+00  1.200000e+04  1.700000e+01  3.100000e+01\n",
      "  2.100000e+01  3.000000e+01  3.300000e+01  7.200000e+01  3.500000e+01\n",
      "  5.000000e+01  2.300000e+01  4.500000e+01  2.023000e+03  2.024000e+03\n",
      "  2.025000e+03  5.700000e+01  8.400000e+01  9.600000e+01  4.100000e+01\n",
      "  2.500000e+01  2.700000e+01  3.800000e+01  1.210000e+02  4.000000e+01\n",
      "  2.200000e+01  4.600000e+01  1.900000e+01  5.600000e+01  2.600000e+01\n",
      "  5.100000e+01  6.210000e+02  4.700000e+01  3.700000e+01  5.200000e+01\n",
      "  2.026000e+03  5.400000e+01  4.200000e+01  2.900000e+01  3.400000e+01\n",
      "  8.200000e+01 -1.200000e+01  3.900000e+01  1.112022e+06  4.300000e+01\n",
      "  5.300000e+01  8.300000e+01  8.000000e+01  6.500000e+01  4.300000e+04\n",
      "  4.900000e+01  7.600000e+01  5.900000e+01  1.080000e+03  1.065000e+03\n",
      "  5.500000e+01  5.800000e+01  7.500000e+01  2.029000e+03 -1.000000e+00\n",
      "  6.200000e+01  2.027000e+03  8.850000e+02 -6.000000e+01  7.000000e+01\n",
      "  1.200000e+03  8.500000e+02  2.400000e+04  1.160000e+03  3.600000e+04\n",
      "  8.700000e+02  1.200000e+02  9.990000e+02  2.028000e+03  9.700000e+01\n",
      "  6.900000e+01  8.100000e+01  7.700000e+01  7.900000e+01  7.300000e+01\n",
      "  6.370000e+02  9.300000e+01  9.000000e+01  6.300000e+01  6.380000e+02\n",
      "  7.100000e+01  6.100000e+01  1.030000e+02  6.800000e+01  6.400000e+02\n",
      "  1.648000e+03 -2.400000e+01  6.390000e+02  6.600000e+01]\n",
      "export_status ['can_be_exported' 'only_for_export' 'not_for_export']\n"
     ]
    }
   ],
   "source": [
    "for col in df_1.columns:\n",
    "    print(col,df_1[col].unique())"
   ]
  },
  {
   "cell_type": "code",
   "execution_count": 49,
   "id": "f8c88487",
   "metadata": {},
   "outputs": [
    {
     "data": {
      "text/plain": [
       "listing_id         203149\n",
       "dealer             203149\n",
       "price              203149\n",
       "year               203149\n",
       "model_id           203149\n",
       "make               203149\n",
       "model              203149\n",
       "body_type          203149\n",
       "fuel_type          196137\n",
       "color              203149\n",
       "kilometers         203149\n",
       "horsepowers             0\n",
       "imported           203149\n",
       "new                203149\n",
       "created_at         203149\n",
       "warranty_months     10074\n",
       "export_status      203149\n",
       "dtype: int64"
      ]
     },
     "execution_count": 49,
     "metadata": {},
     "output_type": "execute_result"
    }
   ],
   "source": [
    "df_1[df_1.dealer!='Dealer X'].count()"
   ]
  },
  {
   "cell_type": "code",
   "execution_count": 46,
   "id": "13c62590",
   "metadata": {
    "collapsed": true
   },
   "outputs": [
    {
     "data": {
      "text/plain": [
       "listing_id         10819\n",
       "dealer             10819\n",
       "price              10819\n",
       "year               10819\n",
       "model_id           10819\n",
       "make               10819\n",
       "model              10819\n",
       "body_type          10819\n",
       "fuel_type          10819\n",
       "color              10819\n",
       "kilometers         10819\n",
       "horsepowers            0\n",
       "imported           10819\n",
       "new                10819\n",
       "created_at         10819\n",
       "warranty_months    10799\n",
       "export_status      10819\n",
       "dtype: int64"
      ]
     },
     "execution_count": 46,
     "metadata": {},
     "output_type": "execute_result"
    }
   ],
   "source": [
    "df_1[df_1.dealer=='Dealer X'].count()"
   ]
  },
  {
   "cell_type": "code",
   "execution_count": 34,
   "id": "dde63ae9",
   "metadata": {
    "collapsed": true
   },
   "outputs": [
    {
     "data": {
      "text/plain": [
       "array([   0, 1900, 1929, 1930, 1934, 1937, 1939, 1948, 1949, 1950, 1951,\n",
       "       1953, 1955, 1956, 1957, 1958, 1959, 1960, 1961, 1962, 1963, 1964,\n",
       "       1965, 1966, 1967, 1968, 1969, 1970, 1971, 1972, 1973, 1974, 1975,\n",
       "       1976, 1977, 1978, 1979, 1980, 1981, 1982, 1983, 1984, 1985, 1986,\n",
       "       1987, 1988, 1989, 1990, 1991, 1992, 1993, 1994, 1995, 1996, 1997,\n",
       "       1998, 1999, 2000, 2001, 2002, 2003, 2004, 2005, 2006, 2007, 2008,\n",
       "       2009, 2010, 2011, 2012, 2013, 2014, 2015, 2016, 2017, 2018, 2019,\n",
       "       2020, 2021, 2022, 2023, 2024], dtype=int64)"
      ]
     },
     "execution_count": 34,
     "metadata": {},
     "output_type": "execute_result"
    }
   ],
   "source": [
    "np.sort(df_1.year.unique())"
   ]
  },
  {
   "cell_type": "code",
   "execution_count": 33,
   "id": "81945556",
   "metadata": {
    "collapsed": true
   },
   "outputs": [
    {
     "data": {
      "text/plain": [
       "array([   0, 1950, 1956, 1962, 1963, 1965, 1967, 1968, 1969, 1970, 1971,\n",
       "       1974, 1975, 1976, 1977, 1978, 1979, 1980, 1981, 1982, 1984, 1985,\n",
       "       1986, 1988, 1989, 1990, 1991, 1992, 1993, 1994, 1995, 1996, 1997,\n",
       "       1998, 1999, 2000, 2001, 2002, 2003, 2004, 2005, 2006, 2007, 2008,\n",
       "       2009, 2010, 2011, 2012, 2013, 2014, 2015, 2016, 2017, 2018, 2019,\n",
       "       2020, 2021, 2022, 2023, 2024], dtype=int64)"
      ]
     },
     "execution_count": 33,
     "metadata": {},
     "output_type": "execute_result"
    }
   ],
   "source": [
    "np.sort(df_3.model_year.unique())"
   ]
  },
  {
   "cell_type": "code",
   "execution_count": 54,
   "id": "5b0002db",
   "metadata": {},
   "outputs": [
    {
     "data": {
      "text/plain": [
       "100418.7622473025"
      ]
     },
     "execution_count": 54,
     "metadata": {},
     "output_type": "execute_result"
    }
   ],
   "source": [
    "df_2.average_price.mean()"
   ]
  },
  {
   "cell_type": "code",
   "execution_count": 55,
   "id": "18f6686f",
   "metadata": {},
   "outputs": [
    {
     "data": {
      "text/plain": [
       "202951.5970384373"
      ]
     },
     "execution_count": 55,
     "metadata": {},
     "output_type": "execute_result"
    }
   ],
   "source": [
    "df_3.average_price.mean()"
   ]
  },
  {
   "cell_type": "markdown",
   "id": "3563fc6e",
   "metadata": {},
   "source": [
    "### What reason(s) could be responsible for the decline in lead volume for Dealer X?"
   ]
  },
  {
   "cell_type": "markdown",
   "id": "50b1dd49",
   "metadata": {},
   "source": [
    "### <font color=red> Reason 1 - Decrease Active Listing"
   ]
  },
  {
   "cell_type": "code",
   "execution_count": 643,
   "id": "29660449",
   "metadata": {},
   "outputs": [
    {
     "name": "stdout",
     "output_type": "stream",
     "text": [
      "It can be observed from the the graph below that active listing are decreasing for dealer X. Therefore, it could said that due to decreae in active listing, total lead volumes are also decreasing\n"
     ]
    }
   ],
   "source": [
    "print('It can be observed from the the graph below that active listing are decreasing for dealer X. Therefore, it could said that due to decreae in active listing, total lead volumes are also decreasing')"
   ]
  },
  {
   "cell_type": "code",
   "execution_count": 642,
   "id": "3be4ed92",
   "metadata": {},
   "outputs": [
    {
     "data": {
      "image/png": "[encoded data removed]",
      "text/plain": [
       "<Figure size 720x432 with 1 Axes>"
      ]
     },
     "metadata": {
      "needs_background": "light"
     },
     "output_type": "display_data"
    }
   ],
   "source": [
    "import pandas as pd\n",
    "import matplotlib.pyplot as plt\n",
    "# Group the data by yy_mm and calculate the sum of total_leads for Dealer X\n",
    "grouped_dealer_x = df_2.groupby('yy_mm')['active_listings'].sum()\n",
    "# Group the data by yy_mm and calculate the sum of total_leads for other dealers\n",
    "grouped_other_dealers = df_3.groupby('yy_mm')['active_listings'].sum()\n",
    "plt.figure(figsize=(10, 6))\n",
    "# Create a plot of yy_mm versus the sum of total_leads for Dealer X\n",
    "plt.plot(grouped_dealer_x.index, grouped_dealer_x.values, label='Dealer X')\n",
    "# Create a plot of yy_mm versus the sum of total_leads for other dealers\n",
    "plt.plot(grouped_other_dealers.index, grouped_other_dealers.values, label='Other Dealers')\n",
    "# Customize the plot\n",
    "plt.xlabel('yy_mm')\n",
    "plt.ylabel('Total Active Listing')\n",
    "plt.title('Sum of Total Active listing over yy_mm')\n",
    "plt.legend()\n",
    "# Display the plot\n",
    "plt.show()"
   ]
  },
  {
   "cell_type": "markdown",
   "id": "1c204024",
   "metadata": {},
   "source": [
    "### <font color=red> Reason 2- Lack of Model/makers in inventory (Search Volume Comparison): "
   ]
  },
  {
   "cell_type": "code",
   "execution_count": 599,
   "id": "8959e5b9",
   "metadata": {},
   "outputs": [],
   "source": [
    "top_maker_delaer_X=filtered_data[filtered_data.dealer=='Dealer X'].groupby('make')['listing_id'].count().sort_values(ascending=False)[1:10].index.tolist()"
   ]
  },
  {
   "cell_type": "code",
   "execution_count": 600,
   "id": "b62f2b33",
   "metadata": {
    "scrolled": false
   },
   "outputs": [],
   "source": [
    "df_searches['annual_search']=df_searches.iloc[:, 3:].sum(axis=1)\n",
    "df_searches=df_searches[['search keyword', 'make_model', 'model_id','annual_search']]\n",
    "top_maker_searches=df_searches.sort_values(by='annual_search',ascending=False)[0:15].make_model.values.tolist()"
   ]
  },
  {
   "cell_type": "code",
   "execution_count": 601,
   "id": "91b9b713",
   "metadata": {},
   "outputs": [
    {
     "name": "stdout",
     "output_type": "stream",
     "text": [
      "It can be observed from the dataset Monthly search volume numbers that user searches in the past 12 months includes maker ['Toyota', 'Mitsubishi', 'Ford', 'Hyundai', 'Honda', 'Chevrolet', 'Renault', 'Kia', 'BMW'] whereas, the top maker in dealer X inventory are ['jeepwrangler', 'nissanpatrol', 'hondacivic', 'hondacity', 'minicoopers', 'minicooper', 'suzukijimmy', 'suzukijimny', 'lexuslfa', 'toyota86', 'toyotacorolla', 'dodgechallenger', 'dodgecharger', 'toyotasupra', 'dodgeviper']The only maker that are common in the top 10 searches of both is Toyota. Hence, one reason for total leads reduction of dealer X is due to lack/unviability of user desired search models/makers.\n"
     ]
    }
   ],
   "source": [
    "print(f\"It can be observed from the dataset Monthly search volume numbers that user searches in the past 12 months includes maker {top_maker_delaer_X} whereas, the top maker in dealer X inventory are {top_maker_searches}The only maker that are common in the top 10 searches of both is Toyota. Hence, one reason for total leads reduction of dealer X is due to lack/unviability of user desired search models/makers.\")"
   ]
  },
  {
   "cell_type": "markdown",
   "id": "5f8b2ad1",
   "metadata": {},
   "source": [
    "### <font color=red> Reason 3 - Decrease in total impressions and total clicks: "
   ]
  },
  {
   "cell_type": "code",
   "execution_count": 644,
   "id": "cab74c8e",
   "metadata": {},
   "outputs": [
    {
     "name": "stdout",
     "output_type": "stream",
     "text": [
      "It can be observed from the plot below that total impressions and total clicks are decreasing, therefore, one reason of decline in leads for dealer X is due to the decrease in number of clicks and number of impression.This points to the room for improving marketing for dealer X\n"
     ]
    }
   ],
   "source": [
    "print('It can be observed from the plot below that total impressions and total clicks are decreasing, therefore, one reason of decline in leads for dealer X is due to the decrease in number of clicks and number of impression.This points to the room for improving marketing for dealer X')"
   ]
  },
  {
   "cell_type": "code",
   "execution_count": 645,
   "id": "a17a5682",
   "metadata": {
    "scrolled": true
   },
   "outputs": [
    {
     "name": "stderr",
     "output_type": "stream",
     "text": [
      "<ipython-input-645-53337438559c>:2: FutureWarning: Indexing with multiple keys (implicitly converted to a tuple of keys) will be deprecated, use a list instead.\n",
      "  grouped_dealer_x=df_2.groupby('yy_mm')['total_clicks','total_impressions','total_leads'].sum()\n"
     ]
    },
    {
     "data": {
      "text/plain": [
       "([<matplotlib.axis.YTick at 0x12569c92dc0>,\n",
       "  <matplotlib.axis.YTick at 0x1255df052b0>,\n",
       "  <matplotlib.axis.YTick at 0x1255de2e700>,\n",
       "  <matplotlib.axis.YTick at 0x125542fc280>,\n",
       "  <matplotlib.axis.YTick at 0x125542fc880>,\n",
       "  <matplotlib.axis.YTick at 0x12569aebc40>,\n",
       "  <matplotlib.axis.YTick at 0x12569c89280>,\n",
       "  <matplotlib.axis.YTick at 0x12569a73cd0>,\n",
       "  <matplotlib.axis.YTick at 0x12569aeb100>,\n",
       "  <matplotlib.axis.YTick at 0x125542fc670>,\n",
       "  <matplotlib.axis.YTick at 0x12569a72580>,\n",
       "  <matplotlib.axis.YTick at 0x12569a721f0>],\n",
       " [Text(0, 0, ''),\n",
       "  Text(0, 0, ''),\n",
       "  Text(0, 0, ''),\n",
       "  Text(0, 0, ''),\n",
       "  Text(0, 0, ''),\n",
       "  Text(0, 0, ''),\n",
       "  Text(0, 0, ''),\n",
       "  Text(0, 0, ''),\n",
       "  Text(0, 0, ''),\n",
       "  Text(0, 0, ''),\n",
       "  Text(0, 0, ''),\n",
       "  Text(0, 0, '')])"
      ]
     },
     "execution_count": 645,
     "metadata": {},
     "output_type": "execute_result"
    },
    {
     "data": {
      "image/png": "[encoded data removed]",
      "text/plain": [
       "<Figure size 720x720 with 1 Axes>"
      ]
     },
     "metadata": {
      "needs_background": "light"
     },
     "output_type": "display_data"
    }
   ],
   "source": [
    "# Group the data by yy_mm and calculate the sum of total_leads and active_listings for Dealer X\n",
    "grouped_dealer_x=df_2.groupby('yy_mm')['total_clicks','total_impressions','total_leads'].sum()\n",
    "plt.figure(figsize=(10, 10))\n",
    "# Create a plot of yy_mm versus the sum of total_leads for Dealer X\n",
    "plt.plot(grouped_dealer_x.index, grouped_dealer_x['total_leads'], label='Dealer X - Total Leads')\n",
    "# Create a plot of yy_mm versus the sum of active_listings for Dealer X\n",
    "plt.plot(grouped_dealer_x.index, grouped_dealer_x['total_clicks'], label='Dealer X - Total Clicks')\n",
    "# Create a plot of yy_mm versus the sum of active_listings for Dealer X\n",
    "plt.plot(grouped_dealer_x.index, grouped_dealer_x['total_impressions'], label='Dealer X - Total impression')\n",
    "# Customize the plot\n",
    "plt.xlabel('yy_mm')\n",
    "plt.ylabel('Sum')\n",
    "plt.title('Total Leadds, Total clicks and Total Impression over yy_mm - Dealer X')\n",
    "plt.legend()\n",
    "# Set the x-axis range to be magnified\n",
    "plt.ylim(-1e7, 5e7)\n",
    "plt.yticks([0e7,0.1e7, 0.2e7, 0.3e7, 0.4e7, 0.5e7,0.75e7, 1e7,1.5e7, 2e7, 2.5e7, 3e7])"
   ]
  },
  {
   "cell_type": "markdown",
   "id": "70ba3c5c",
   "metadata": {},
   "source": [
    "### <font color='red'> Reason 4 - Unviability of Older car models"
   ]
  },
  {
   "cell_type": "code",
   "execution_count": 646,
   "id": "da34fc3b",
   "metadata": {
    "scrolled": true
   },
   "outputs": [],
   "source": [
    "available_year_dealer_X=df_2.groupby(['model_year'])['active_listings'].sum().index.tolist()"
   ]
  },
  {
   "cell_type": "code",
   "execution_count": 647,
   "id": "27d78c11",
   "metadata": {
    "scrolled": false
   },
   "outputs": [],
   "source": [
    "available_year_dealer_O=df_3.groupby(['model_year'])['active_listings'].sum().index.tolist()"
   ]
  },
  {
   "cell_type": "code",
   "execution_count": 648,
   "id": "19145410",
   "metadata": {},
   "outputs": [
    {
     "name": "stdout",
     "output_type": "stream",
     "text": [
      "Firstly the only models that dealer X have are starting from 2010, other dealers also offer models older 2010. Unviability of Older car models: Dealer X only has active car listing of model starting from 2010 (in the last year). This could be a possibility in the decline in total leads\n"
     ]
    }
   ],
   "source": [
    "print(\"Firstly the only models that dealer X have are starting from 2010, other dealers also offer models older 2010. Unviability of Older car models: Dealer X only has active car listing of model starting from 2010 (in the last year). This could be a possibility in the decline in total leads\")"
   ]
  },
  {
   "cell_type": "markdown",
   "id": "8c11c440",
   "metadata": {},
   "source": [
    "### Question 2 - Why is Dealer X not benefitting from the overall increase in DubiCars leads volume?"
   ]
  },
  {
   "cell_type": "markdown",
   "id": "e4cdbb53",
   "metadata": {},
   "source": [
    "### <font color=red> Reason 1 - Lack of Newer model cars: "
   ]
  },
  {
   "cell_type": "code",
   "execution_count": 649,
   "id": "e645b875",
   "metadata": {
    "scrolled": true
   },
   "outputs": [],
   "source": [
    "new_model_per_dealer_X=(270+23)/df_2.count()[0]*100\n",
    "new_model_per_dealer_0=(1113+5642)/df_3.count()[0]*100"
   ]
  },
  {
   "cell_type": "code",
   "execution_count": 650,
   "id": "8d13dab5",
   "metadata": {},
   "outputs": [
    {
     "name": "stdout",
     "output_type": "stream",
     "text": [
      "1. It seeems that total 2022 and 2023 percentage car that are actively listed at dealer X makes 3.6338831700359666%of all the cars, where as, for other dealers 2023 and 2022 makes 16.37099510445446 % of the car. Customers usually look for most recent model cars, so it is possible that the decline in total leads is because of lack of listing of newer models\n"
     ]
    }
   ],
   "source": [
    "print(f\"1. It seeems that total 2022 and 2023 percentage car that are actively listed at dealer X makes {new_model_per_dealer_X}%of all the cars, where as, for other dealers 2023 and 2022 makes {new_model_per_dealer_0} % of the car. Customers usually look for most recent model cars, so it is possible that the decline in total leads is because of lack of listing of newer models\")"
   ]
  },
  {
   "cell_type": "markdown",
   "id": "ee94ccc7",
   "metadata": {},
   "source": [
    "### <font color='red'>Reason 2 - Limited Listing (wrt model Id) Compared to Dealer Others: "
   ]
  },
  {
   "cell_type": "code",
   "execution_count": 651,
   "id": "65777875",
   "metadata": {},
   "outputs": [],
   "source": [
    "df_others_2010=df_3[df_3.model_year>=2010]\n",
    "df_others_yr_id=df_others_2010.groupby(['model_year','model_id'])['average_price'].mean().reset_index()\n",
    "df_dealerX_id=df_2.groupby(['model_year','model_id'])['average_price'].mean().reset_index()\n",
    "dealer_X_2023_model_id=df_dealerX_id[df_dealerX_id.model_year==2023].model_id.values.tolist()\n",
    "dealer_O_2023_model_id=df_others_yr_id[df_others_yr_id.model_year==2023].model_id.values.tolist()"
   ]
  },
  {
   "cell_type": "code",
   "execution_count": 652,
   "id": "629c6205",
   "metadata": {},
   "outputs": [
    {
     "name": "stdout",
     "output_type": "stream",
     "text": [
      "2. Limited Listing (wrt model Id) Compared to Dealer Others: \n",
      "       Dealer X does not have the same leads as dealer others due to limited active listing of particular models of particular year y dealer X. For instance, dealer X is selling the following 2023 cars with model id [240, 1521, 1776, 1919, 2733, 2998] while Dealer others are selling [79, 88, 93, 95, 109, 116, 128, 132, 134, 137, 143, 147, 163, 164, 167, 169, 174, 178, 179, 180, 181, 182, 186, 195, 224, 240, 308, 435, 514, 515, 542, 568, 590, 595, 643, 674, 676, 723, 756, 783, 795, 826, 877, 891, 990, 1039, 1058, 1073, 1091, 1105, 1116, 1118, 1200, 1213, 1241, 1265, 1270, 1275, 1276, 1293, 1350, 1369, 1374, 1403, 1521, 1543, 1547, 1550, 1555, 1559, 1561, 1570, 1581, 1603, 1639, 1697, 1721, 1758, 1762, 1764, 1765, 1782, 1783, 1805, 1827, 1831, 1832, 1834, 1837, 1846, 1919, 1937, 2034, 2046, 2104, 2159, 2161, 2198, 2203, 2265, 2288, 2320, 2327, 2354, 2391, 2417, 2421, 2471, 2472, 2483, 2507, 2508, 2526, 2528, 2543, 2545, 2551, 2570, 2575, 2581, 2585, 2600, 2611, 2654, 2675, 2681, 2689, 2691, 2704, 2722, 2736, 2742, 2768, 2787, 2825, 2832, 2842, 2849, 2858, 2867, 2890, 2937, 2943, 2954, 2998, 3005, 3006, 3007, 3016, 3023, 3025, 3035, 3067, 3068, 3069, 3070, 3081, 3082, 3104, 3152, 3155, 3184, 3191]\n"
     ]
    }
   ],
   "source": [
    "print(f'2. Limited Listing (wrt model Id) Compared to Dealer Others: \\n \\\n",
    "      Dealer X does not have the same leads as dealer others due to limited active listing of particular models of particular year y dealer X. For instance, dealer X is selling the following 2023 cars with model id {dealer_X_2023_model_id} while Dealer others are selling {dealer_O_2023_model_id}')"
   ]
  },
  {
   "cell_type": "markdown",
   "id": "f9984789",
   "metadata": {},
   "source": [
    "### <font color='red'> Reason 3-Lack of Model variety"
   ]
  },
  {
   "cell_type": "code",
   "execution_count": 653,
   "id": "a3155fe0",
   "metadata": {
    "scrolled": true
   },
   "outputs": [],
   "source": [
    "dealer_X_2011_count=len(df_others_yr_id[(df_others_yr_id.model_year==2011)].model_id.values)"
   ]
  },
  {
   "cell_type": "code",
   "execution_count": 654,
   "id": "5fe9b909",
   "metadata": {},
   "outputs": [],
   "source": [
    "dealer_0_2011_count=len(df_dealerX_id [(df_dealerX_id.model_year==2011)].model_id.values)"
   ]
  },
  {
   "cell_type": "code",
   "execution_count": 655,
   "id": "074bfee0",
   "metadata": {},
   "outputs": [
    {
     "name": "stdout",
     "output_type": "stream",
     "text": [
      "3. As observed above, Dealer X is selling just 5 different types of models of year 2011 whereas dealer others are selling 265 varied car models. More variety would lead to more leads\n"
     ]
    }
   ],
   "source": [
    "print(f'3. As observed above, Dealer X is selling just {dealer_0_2011_count} different types of models of year 2011 whereas dealer others are selling {dealer_X_2011_count} varied car models. More variety would lead to more leads')"
   ]
  },
  {
   "cell_type": "markdown",
   "id": "f1d89af1",
   "metadata": {},
   "source": [
    "### <font color='red'>Reason 4 - Higher Prices Compared to Dealer Others: "
   ]
  },
  {
   "cell_type": "code",
   "execution_count": 656,
   "id": "420af3f3",
   "metadata": {},
   "outputs": [
    {
     "name": "stdout",
     "output_type": "stream",
     "text": [
      "dealer others:\n",
      "      model_year  model_id  average_price\n",
      "269        2011       485   25216.416667\n",
      "dealer X:\n",
      "    model_year  model_id  average_price\n",
      "2        2011       485        25999.0\n"
     ]
    }
   ],
   "source": [
    "print('dealer others:\\n',df_others_yr_id[(df_others_yr_id.model_year==2011) & (df_others_yr_id.model_id==485)])\n",
    "print('dealer X:\\n',df_dealerX_id[(df_dealerX_id.model_year==2011) & (df_dealerX_id.model_id==485)])"
   ]
  },
  {
   "cell_type": "code",
   "execution_count": 657,
   "id": "c8e6230f",
   "metadata": {},
   "outputs": [
    {
     "name": "stdout",
     "output_type": "stream",
     "text": [
      "dealer others:\n",
      "\n",
      "     model_year  model_id  average_price\n",
      "307        2011       676        25824.4\n",
      "dealer X:\n",
      "\n",
      "   model_year  model_id  average_price\n",
      "4        2011       676        29199.0\n"
     ]
    }
   ],
   "source": [
    "print('dealer others:\\n')\n",
    "print(df_others_yr_id[(df_others_yr_id.model_year==2011) & (df_others_yr_id.model_id==676)])\n",
    "print('dealer X:\\n')\n",
    "print(df_dealerX_id[(df_dealerX_id.model_year==2011) & (df_dealerX_id.model_id==676)])"
   ]
  },
  {
   "cell_type": "code",
   "execution_count": 658,
   "id": "f4af31e0",
   "metadata": {},
   "outputs": [
    {
     "name": "stdout",
     "output_type": "stream",
     "text": [
      "dealer others:\n",
      "\n",
      "     model_year  model_id  average_price\n",
      "278        2011       522        16250.0\n",
      "dealer X:\n",
      "\n",
      "   model_year  model_id  average_price\n",
      "3        2011       522        33399.0\n"
     ]
    }
   ],
   "source": [
    "print('dealer others:\\n')\n",
    "print(df_others_yr_id[(df_others_yr_id.model_year==2011) & (df_others_yr_id.model_id==522)])\n",
    "print('dealer X:\\n')\n",
    "print(df_dealerX_id[(df_dealerX_id.model_year==2011) & (df_dealerX_id.model_id==522)])"
   ]
  },
  {
   "cell_type": "code",
   "execution_count": 659,
   "id": "e615a949",
   "metadata": {
    "scrolled": true
   },
   "outputs": [
    {
     "name": "stdout",
     "output_type": "stream",
     "text": [
      "dealer others:\n",
      "\n",
      "     model_year  model_id  average_price\n",
      "389        2011      1547   20881.833333\n",
      "dealer X:\n",
      "\n",
      "   model_year  model_id  average_price\n",
      "6        2011      1547        28299.0\n"
     ]
    }
   ],
   "source": [
    "print('dealer others:\\n')\n",
    "print(df_others_yr_id[(df_others_yr_id.model_year==2011) & (df_others_yr_id.model_id==1547)])\n",
    "print('dealer X:\\n')\n",
    "print(df_dealerX_id[(df_dealerX_id.model_year==2011) & (df_dealerX_id.model_id==1547)])"
   ]
  },
  {
   "cell_type": "markdown",
   "id": "31d4b12b",
   "metadata": {},
   "source": [
    "#### <font color=red>  -by comparing the price above for model year 2011 and model_id 1547 that dealer X price could be higher as compared to dealer others for particular models. For eg: for 2011 model year with model id 485,522,676,115,1547 the prices are higher compared to average price offered for the same model ids by dealer Others. </font>"
   ]
  },
  {
   "cell_type": "markdown",
   "id": "3291d97e",
   "metadata": {},
   "source": [
    "### <font color='red'>5. Reason - Difference in Top 10 Makers of Dealer X and Dealer Others"
   ]
  },
  {
   "cell_type": "code",
   "execution_count": 660,
   "id": "1ed10a33",
   "metadata": {},
   "outputs": [],
   "source": [
    "df_1['created_at'] = pd.to_datetime(df_1['created_at'])\n",
    "filtered_data = df_1[df_1['created_at'] >= '2022-07']\n",
    "filtered_others=filtered_data[filtered_data.dealer=='Others']\n",
    "filtered_dealer_x=filtered_data[filtered_data.dealer=='Dealer X']"
   ]
  },
  {
   "cell_type": "code",
   "execution_count": 661,
   "id": "95dc8928",
   "metadata": {
    "scrolled": false
   },
   "outputs": [],
   "source": [
    "dealer_0_top_maker=filtered_others.groupby('make')['listing_id'].count().sort_values(ascending=False)[1:10].index.to_list()"
   ]
  },
  {
   "cell_type": "code",
   "execution_count": 666,
   "id": "29f1c5c1",
   "metadata": {
    "scrolled": true
   },
   "outputs": [],
   "source": [
    "dealer_X_top_maker=filtered_dealer_x.groupby('make')['listing_id'].count().sort_values(ascending=False)[1:10].index.to_list()\n",
    "missing_makers_dealer_X=list(set(dealer_0_top_maker) - set(dealer_X_top_maker))"
   ]
  },
  {
   "cell_type": "code",
   "execution_count": 669,
   "id": "3beb89c6",
   "metadata": {},
   "outputs": [
    {
     "name": "stdout",
     "output_type": "stream",
     "text": [
      "5. By filtering all the listing base upon the last year since 2022-07, top 10 listing by makers are observed. It was found that dealer Others has higher listing of ['Mercedes-Benz', 'Nissan', 'Hyundai', 'Land Rover', 'Lexus', 'BMW', 'Ford', 'Kia', 'Mitsubishi']. Some of these makers were not in the top ten listing of dealer X. Dealer X top 10 makers were ['Toyota', 'Mitsubishi', 'Ford', 'Hyundai', 'Honda', 'Chevrolet', 'Renault', 'Kia', 'BMW'] May be these are popular but compared to the models offere by other dealers they are less in demand. Makers that are present in dealer Others but are missing in dealer X are ['Nissan', 'Lexus', 'Mercedes-Benz', 'Land Rover']\n"
     ]
    }
   ],
   "source": [
    "print(f'5. By filtering all the listing base upon the last year since 2022-07, top 10 listing by makers are observed. It was found that dealer Others has higher listing of {dealer_0_top_maker}. Some of these makers were not in the top ten listing of dealer X. Dealer X top 10 makers were {dealer_X_top_maker} May be these are popular but compared to the models offere by other dealers they are less in demand. Makers that are present in dealer Others but are missing in dealer X are {missing_makers_dealer_X}')"
   ]
  },
  {
   "cell_type": "markdown",
   "id": "c173b102",
   "metadata": {},
   "source": [
    "### <font color='red'> 6 Reason - Body Type"
   ]
  },
  {
   "cell_type": "code",
   "execution_count": 664,
   "id": "b3929668",
   "metadata": {
    "scrolled": true
   },
   "outputs": [],
   "source": [
    "dealer_O_body_type=filtered_others.groupby('body_type')['listing_id'].count().sort_values(ascending=False)[1:13].index.to_list()\n",
    "dealer_X_body_type=filtered_dealer_x.groupby('body_type')['listing_id'].count().sort_values(ascending=False)[1:10].index.to_list()\n",
    "missing_body_type_dealer_X=list(set(dealer_O_body_type) - set(dealer_X_body_type))"
   ]
  },
  {
   "cell_type": "code",
   "execution_count": 665,
   "id": "3c038159",
   "metadata": {},
   "outputs": [
    {
     "name": "stdout",
     "output_type": "stream",
     "text": [
      "6. Dealer X listing is offereing limited body_type cars. As shown above, its inventory does not contain ['Bus', 'Pick Up Truck', 'Van', 'Other', 'Bike'] On the other hand, dealer Others do have these missing boyd types\n"
     ]
    }
   ],
   "source": [
    "print(f'6. Dealer X listing is offereing limited body_type cars. As shown above, its inventory does not contain {missing_body_type_dealer_X} On the other hand, dealer Others do have these missing boyd types')"
   ]
  },
  {
   "cell_type": "markdown",
   "id": "a5aa9979",
   "metadata": {},
   "source": [
    " <b>Q3 - What can be done to improve performance  </b>\n",
    "\n",
    "Answer: Based upon the above possible caused that are deduced from analyzing data, Following steps are recommended to improve dealer X performance:\n",
    "<font color='red'>\n",
    "1.\tIncrease Listing of Newer Models: Dealer X should focus on actively listing more newer model cars, particularly those from 2022 and 2023. This can help attract customers who are specifically looking for the latest models.\n",
    "2.\tExpand Listing Variety: Dealer X should aim to diversify its inventory by offering a wider range of car models and model years. By expanding the variety of models available, Dealer X can cater to a broader customer base and increase the chances of generating more leads.\n",
    "3.\tEvaluate Pricing Strategy: Dealer X should review its pricing strategy and consider adjusting prices, especially for models where the prices are higher compared to other dealers. Offering competitive prices can make the listings more attractive to customers and improve lead generation.\n",
    "4.\tInclude Older Model Years: Dealer X can consider including older model year cars in its inventory. This can help attract customers who are specifically looking for vintage or classic cars. Including cars with model years earlier than 2010 can broaden the market reach and potentially increase lead volumes.\n",
    "5.\tMonitor and Include High-Demand Makers: Dealer X should closely monitor market trends and include high-demand makers in its listings. Analyzing customer preferences and including popular makers can help attract more leads and increase conversion rates.\n",
    "6.\tExpand Body Type Options: Dealer X should consider expanding its inventory to include additional body types, such as vans, buses, and pickup trucks. This can attract customers with specific needs for these types of vehicles and broaden the customer base.\n"
   ]
  }
 ],
 "metadata": {
  "kernelspec": {
   "display_name": "Python 3",
   "language": "python",
   "name": "python3"
  },
  "language_info": {
   "codemirror_mode": {
    "name": "ipython",
    "version": 3
   },
   "file_extension": ".py",
   "mimetype": "text/x-python",
   "name": "python",
   "nbconvert_exporter": "python",
   "pygments_lexer": "ipython3",
   "version": "3.8.8"
  }
 },
 "nbformat": 4,
 "nbformat_minor": 5
}
